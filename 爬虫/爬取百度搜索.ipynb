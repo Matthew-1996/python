{
 "cells": [
  {
   "cell_type": "code",
   "execution_count": 53,
   "metadata": {},
   "outputs": [
    {
     "name": "stdout",
     "output_type": "stream",
     "text": [
      "1 url: http://www.baidu.com/link?url=Zg6WggMZNYI9GD4u_vpXfj7kwAzjCvZCNTnJJZ_50P-8CLJ1fi-SLUzm5mY7QzBZ\n",
      "2 url: http://www.baidu.com/link?url=M9t6vfzRN3jQvzq-HftO7HsBhgJr9FhkUvXFNF9E8HzMNEPyDlZJdmtoKCz9Qc9ADLgpG0YlVv3x4JbvuB2eR_\n",
      "3 url: http://www.baidu.com/link?url=JsuJfY5t2j2uSJet4lGmRlDXucwt7m-ura8KzxRXQ6FfrMt9U-Q-5jsgowAhFLce-YoHpWX3YMO9tw4lukiXga\n",
      "4 url: http://www.baidu.com/link?url=Y48yFsUl8ZPKZo7rUUqpKl2HpH7SgVzw7q7-w-aA7G-jmNULShKd8yge4-9GzGljv-g0DbRJmXRWMKzUo7C7jTbnv3xVs5si6a-OngUhWxEvbbLB1CNWMvB1MX7bc7O7\n",
      "5 url: http://www.baidu.com/link?url=z8mRTF-C6RYfBy0auO5dl5x0OdQaSL7r0YhVCoupOBeT4RxJ2s-Dkl1j7Ie_hjgStYhG4z02fsx0fTbjB2fzkXioZtdXNzEAFOKqf1l00FK\n",
      "6 url: http://www.baidu.com/link?url=Dn6toCMkEGk5b-X__9vZKMwIEyeYGY2uJBdl2LZdUbkxhWs7Vm5NATy-JLd1VcAD\n",
      "7 url: http://www.baidu.com/link?url=1Xk7IyescVBTYiaDRpAYq8gjeIFfE1Q2OWVk9uhWW9OiD32Gd1EkqPEdhQ8rM35eN67QufEURB4oBS_Mj4T_qIVrwd0-VsLKQ6vy-1VETj3\n",
      "8 url: http://www.baidu.com/link?url=rf6pvmqR9EJiKvK3eimsz-8-XdL0ZTplfnDIDOdNDxeoh0HmsC84do0Zd-66wEYE\n",
      "9 url: http://www.baidu.com/link?url=MN9YkIwCjifzcfERUs6ZJozcWYxsMDr-nC4MTpy0MilBdy9z06mrRBkQJXJkB0ev0LO1xJshNyC59Ey4PQm8AFdDWYXnzWZMI_PBN7k_ncW\n"
     ]
    }
   ],
   "source": [
    "from bs4 import BeautifulSoup\n",
    "from urllib.request import urlopen\n",
    "import re\n",
    "\n",
    "#url = 'https://www.baidu.com/s?wd=%E5%87%AF%E8%A5%BF%E6%89%BE%E4%B9%90%E6%8C%87%E5%8D%97&pn=0&oq=%E5%87%AF%E8%A5%BF%E6%89%BE%E4%B9%90%E6%8C%87%E5%8D%97&ie=utf-8&usm=1&fenlei=256&rsv_idx=1&rsv_pq=99d79e870005a5fd&rsv_t=02db0vyQ2uPxvtb%2ByikWm9E07pqieLhuqW7jxqZkWakM%2FFUEfz%2FSPts4p3U'\n",
    "#这是百度搜索 凯西找乐指南第一页的url，观察可以发现pn=0，百度搜索每页是个链接，只要改成pn=10，就可以跳转到下一页。利用这个特征，先修改以下url方便换页处理。\n",
    "url_first = 'http://www.baidu.com/s?wd=%E5%87%AF%E8%A5%BF%E6%89%BE%E4%B9%90%E6%8C%87%E5%8D%97&'\n",
    "url_last = '&oq=%E5%87%AF%E8%A5%BF%E6%89%BE%E4%B9%90%E6%8C%87%E5%8D%97&ie=utf-8&usm=1&fenlei=256&rsv_idx=1&rsv_pq=99d79e870005a5fd&rsv_t=02db0vyQ2uPxvtb%2ByikWm9E07pqieLhuqW7jxqZkWakM%2FFUEfz%2FSPts4p3U'\n",
    "n = 1\n",
    "for i in range(1):    #设置了页数，可调整参数\n",
    "    url_page = 'pn={}'.format(i * 10)\n",
    "    url = url_first + url_page + url_last\n",
    "    html = urlopen(url).read().decode('utf-8')\n",
    "    soup = BeautifulSoup(html, 'lxml')\n",
    "    #要考虑过滤掉百度快照，由于百度视频的url形式与其他不同，下面爬的是除此以外的url\n",
    "    for x in soup.find_all('a', {'data-click': re.compile('\\{\\s*\\'F\\'+.*'), 'href': re.compile('http:.+')}):\n",
    "        link = x['href']\n",
    "        print(n, 'url:', link)\n",
    "        n += 1   "
   ]
  },
  {
   "cell_type": "code",
   "execution_count": null,
   "metadata": {},
   "outputs": [],
   "source": []
  }
 ],
 "metadata": {
  "kernelspec": {
   "display_name": "Python 3",
   "language": "python",
   "name": "python3"
  },
  "language_info": {
   "codemirror_mode": {
    "name": "ipython",
    "version": 3
   },
   "file_extension": ".py",
   "mimetype": "text/x-python",
   "name": "python",
   "nbconvert_exporter": "python",
   "pygments_lexer": "ipython3",
   "version": "3.7.6"
  }
 },
 "nbformat": 4,
 "nbformat_minor": 4
}
